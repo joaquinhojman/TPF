{
 "cells": [
  {
   "cell_type": "code",
   "execution_count": 1,
   "id": "53e04d58-2f9c-47f3-b4ca-265fe43ce9f5",
   "metadata": {},
   "outputs": [],
   "source": [
    "import networkx as nx\n",
    "import rustworkx as rx\n",
    "import pandas as pd\n",
    "import cProfile"
   ]
  },
  {
   "cell_type": "code",
   "execution_count": 2,
   "id": "4b54a089-17f7-49e0-ad72-7c08d10113da",
   "metadata": {},
   "outputs": [],
   "source": [
    "def build_drug_interaction_network(graph_builder):\n",
    "    # Drug-drug interaction network\n",
    "    # https://snap.stanford.edu/biodata/datasets/10001/10001-ChCh-Miner.html\n",
    "    data = pd.read_csv(\n",
    "        \"https://snap.stanford.edu/biodata/datasets/10001/files/ChCh-Miner_durgbank-chem-chem.tsv.gz\",\n",
    "        sep=\"\\t\",\n",
    "        header=None,\n",
    "    )\n",
    "    return graph_builder(data, source=0, target=1)"
   ]
  },
  {
   "cell_type": "markdown",
   "id": "6f4b9c34-389c-4d61-ab48-f5c92b854bdd",
   "metadata": {},
   "source": [
    "# Betweenness Centrality measure (NetworkX)"
   ]
  },
  {
   "cell_type": "code",
   "execution_count": 3,
   "id": "1fd4a556-fc75-4eb0-9967-d18910dbd47e",
   "metadata": {},
   "outputs": [],
   "source": [
    "def profile(profile_out: str = None):\n",
    "    def wrapper(func):\n",
    "        def inner(*args, **kwargs):\n",
    "            import cProfile\n",
    "            with cProfile.Profile() as pr:\n",
    "                res = pr.runcall(func, *args, **kwargs)\n",
    "                pr.dump_stats(f'{profile_out}.profile') if profile_out is not None else pr.print_stats()\n",
    "                return res\n",
    "        return inner\n",
    "    return wrapper"
   ]
  },
  {
   "cell_type": "code",
   "execution_count": 4,
   "id": "54956575-aad7-431e-909b-b16c6442792b",
   "metadata": {},
   "outputs": [],
   "source": [
    "profiler = profile()"
   ]
  },
  {
   "cell_type": "code",
   "execution_count": 5,
   "id": "c1ed9c55-1d14-4a15-b6a6-24464464ba97",
   "metadata": {},
   "outputs": [
    {
     "name": "stdout",
     "output_type": "stream",
     "text": [
      "         51195879 function calls (51195875 primitive calls) in 25.198 seconds\n",
      "\n",
      "   Ordered by: standard name\n",
      "\n",
      "   ncalls  tottime  percall  cumtime  percall filename:lineno(function)\n",
      "        1    0.000    0.000    0.000    0.000 <class 'networkx.utils.decorators.argmap'> compilation 8:1(<module>)\n",
      "        1    0.000    0.000   25.198   25.198 <class 'networkx.utils.decorators.argmap'> compilation 8:1(argmap_betweenness_centrality_5)\n",
      "        1    0.000    0.000    0.000    0.000 <string>:1(<lambda>)\n",
      "        1    0.157    0.157   25.197   25.197 betweenness.py:14(betweenness_centrality)\n",
      "     1514   17.814    0.012   21.810    0.014 betweenness.py:256(_single_source_shortest_path_basic)\n",
      "     1514    3.078    0.002    3.230    0.002 betweenness.py:317(_accumulate_basic)\n",
      "        1    0.000    0.000    0.000    0.000 betweenness.py:359(_rescale)\n",
      "        1    0.000    0.000   25.198   25.198 cProfile.py:106(runcall)\n",
      "  4560216    0.367    0.000    0.367    0.000 coreviews.py:44(__init__)\n",
      "  2280108    0.286    0.000    0.403    0.000 coreviews.py:50(__iter__)\n",
      "  2280108    0.646    0.000    0.818    0.000 coreviews.py:81(__getitem__)\n",
      "        1    0.000    0.000    0.000    0.000 decorators.py:1032(get_name)\n",
      "        2    0.000    0.000    0.000    0.000 decorators.py:1077(<genexpr>)\n",
      "        1    0.000    0.000    0.000    0.000 decorators.py:1083(signature)\n",
      "      8/5    0.000    0.000    0.000    0.000 decorators.py:1188(_flatten)\n",
      "        5    0.000    0.000    0.000    0.000 decorators.py:1218(_indent)\n",
      "        1    0.000    0.000    0.000    0.000 decorators.py:740(_lazy_compile)\n",
      "        1    0.000    0.000   25.198   25.198 decorators.py:815(func)\n",
      "        4    0.000    0.000    0.000    0.000 decorators.py:850(_count)\n",
      "        3    0.000    0.000    0.000    0.000 decorators.py:873(_name)\n",
      "        1    0.000    0.000    0.000    0.000 decorators.py:893(compile)\n",
      "        1    0.000    0.000    0.000    0.000 decorators.py:941(assemble)\n",
      "        6    0.000    0.000    0.000    0.000 enum.py:359(__call__)\n",
      "        6    0.000    0.000    0.000    0.000 enum.py:678(__new__)\n",
      "        1    0.000    0.000    0.000    0.000 functools.py:421(_unwrap_partial)\n",
      "        1    0.000    0.000    0.000    0.000 graph.py:1458(is_directed)\n",
      "  2280108    0.464    0.000    0.659    0.000 graph.py:338(adj)\n",
      "     3030    0.001    0.000    0.001    0.000 graph.py:398(__iter__)\n",
      "        1    0.000    0.000    0.000    0.000 graph.py:430(__len__)\n",
      "  2280108    0.642    0.000    2.119    0.000 graph.py:452(__getitem__)\n",
      "        1    0.000    0.000    0.000    0.000 inspect.py:199(ismethod)\n",
      "        1    0.000    0.000    0.000    0.000 inspect.py:2280(_signature_from_function)\n",
      "        1    0.000    0.000    0.000    0.000 inspect.py:2375(_signature_from_callable)\n",
      "        6    0.000    0.000    0.000    0.000 inspect.py:2637(__init__)\n",
      "       24    0.000    0.000    0.000    0.000 inspect.py:2687(name)\n",
      "        6    0.000    0.000    0.000    0.000 inspect.py:2699(kind)\n",
      "        3    0.000    0.000    0.000    0.000 inspect.py:277(isfunction)\n",
      "        1    0.000    0.000    0.000    0.000 inspect.py:290(_has_code_flag)\n",
      "        1    0.000    0.000    0.000    0.000 inspect.py:2920(__init__)\n",
      "        7    0.000    0.000    0.000    0.000 inspect.py:2969(<genexpr>)\n",
      "        1    0.000    0.000    0.000    0.000 inspect.py:2998(from_callable)\n",
      "        1    0.000    0.000    0.000    0.000 inspect.py:3006(parameters)\n",
      "        1    0.000    0.000    0.000    0.000 inspect.py:301(isgeneratorfunction)\n",
      "        1    0.000    0.000    0.000    0.000 inspect.py:3252(signature)\n",
      "        1    0.000    0.000    0.000    0.000 inspect.py:66(get_annotations)\n",
      "        1    0.000    0.000    0.000    0.000 misc.py:560(create_py_random_state)\n",
      "        3    0.000    0.000    0.000    0.000 re.py:202(sub)\n",
      "        3    0.000    0.000    0.000    0.000 re.py:288(_compile)\n",
      "        1    0.000    0.000    0.000    0.000 {built-in method __new__ of type object at 0x748520}\n",
      "        2    0.000    0.000    0.000    0.000 {built-in method builtins.callable}\n",
      "        1    0.000    0.000    0.000    0.000 {built-in method builtins.compile}\n",
      "        1    0.000    0.000    0.000    0.000 {built-in method builtins.exec}\n",
      "        3    0.000    0.000    0.000    0.000 {built-in method builtins.getattr}\n",
      "        4    0.000    0.000    0.000    0.000 {built-in method builtins.hasattr}\n",
      "        7    0.000    0.000    0.000    0.000 {built-in method builtins.id}\n",
      "       30    0.000    0.000    0.000    0.000 {built-in method builtins.isinstance}\n",
      "  2283138    0.118    0.000    0.118    0.000 {built-in method builtins.iter}\n",
      "      3/2    0.000    0.000    0.000    0.000 {built-in method builtins.len}\n",
      "     3029    0.139    0.000    0.139    0.000 {built-in method fromkeys}\n",
      "        3    0.000    0.000    0.000    0.000 {method 'add' of 'set' objects}\n",
      "  2278594    0.092    0.000    0.092    0.000 {method 'append' of 'collections.deque' objects}\n",
      " 28384002    1.207    0.000    1.207    0.000 {method 'append' of 'list' objects}\n",
      "        1    0.000    0.000    0.000    0.000 {method 'disable' of '_lsprof.Profiler' objects}\n",
      "        1    0.000    0.000    0.000    0.000 {method 'enable' of '_lsprof.Profiler' objects}\n",
      "        1    0.000    0.000    0.000    0.000 {method 'extend' of 'list' objects}\n",
      "        1    0.000    0.000    0.000    0.000 {method 'format' of 'str' objects}\n",
      "        7    0.000    0.000    0.000    0.000 {method 'get' of 'dict' objects}\n",
      "        6    0.000    0.000    0.000    0.000 {method 'isidentifier' of 'str' objects}\n",
      "        3    0.000    0.000    0.000    0.000 {method 'join' of 'str' objects}\n",
      "  2280108    0.078    0.000    0.078    0.000 {method 'pop' of 'list' objects}\n",
      "  2280108    0.108    0.000    0.108    0.000 {method 'popleft' of 'collections.deque' objects}\n",
      "        3    0.000    0.000    0.000    0.000 {method 'sub' of 're.Pattern' objects}\n",
      "        2    0.000    0.000    0.000    0.000 {method 'update' of 'dict' objects}\n",
      "        1    0.000    0.000    0.000    0.000 {method 'values' of 'dict' objects}\n",
      "        1    0.000    0.000    0.000    0.000 {method 'values' of 'mappingproxy' objects}\n",
      "\n",
      "\n"
     ]
    }
   ],
   "source": [
    "g = build_drug_interaction_network(graph_builder=nx.from_pandas_edgelist)\n",
    "res = profiler(nx.betweenness_centrality)(g)"
   ]
  },
  {
   "cell_type": "markdown",
   "id": "c2e90fac",
   "metadata": {},
   "source": [
    "`_single_source_shortest_path_basic` gets call for every node in the graph (1514 times)."
   ]
  },
  {
   "cell_type": "code",
   "execution_count": 6,
   "id": "25666a70",
   "metadata": {},
   "outputs": [
    {
     "data": {
      "text/plain": [
       "1514"
      ]
     },
     "execution_count": 6,
     "metadata": {},
     "output_type": "execute_result"
    }
   ],
   "source": [
    "len(g)"
   ]
  },
  {
   "cell_type": "code",
   "execution_count": 7,
   "id": "a8e97574",
   "metadata": {},
   "outputs": [
    {
     "name": "stdout",
     "output_type": "stream",
     "text": [
      "snakeviz web server started on 127.0.0.1:8080; enter Ctrl-C to exit\n",
      "http://127.0.0.1:8080/snakeviz/%2Fhome%2Fleonardo%2FEscritorio%2Ffiuba%2FTPF%2Fnx-profiling%2Fnx_betweenness\n",
      "^C\n",
      "\n",
      "Bye!\n"
     ]
    }
   ],
   "source": [
    "! snakeviz nx_betweenness"
   ]
  },
  {
   "cell_type": "markdown",
   "id": "9ed4167c",
   "metadata": {},
   "source": [
    "# Betweenness Centrality measure (RustworkX)"
   ]
  },
  {
   "cell_type": "code",
   "execution_count": 8,
   "id": "7ab5b1dd-449b-4804-88a1-b0e8db7025c4",
   "metadata": {},
   "outputs": [],
   "source": [
    "def rx_graph_builder(data, *args, **kwargs):\n",
    "    # the graph is not as easy to build as in networkx...\n",
    "    nodes = data.stack().reset_index()[0].unique()\n",
    "    g = rx.PyGraph()\n",
    "    node_idxs = g.add_nodes_from(nodes)\n",
    "    node_to_index_mapping = dict(zip(nodes, node_idxs))\n",
    "    for edge in data.itertuples():\n",
    "        node_1, node_2 = node_to_index_mapping[edge._1], node_to_index_mapping[edge._2]\n",
    "        g.add_edge(node_1, node_2, None)\n",
    "    return g"
   ]
  },
  {
   "cell_type": "code",
   "execution_count": 9,
   "id": "4679deb5",
   "metadata": {},
   "outputs": [],
   "source": [
    "g = build_drug_interaction_network(graph_builder=rx_graph_builder)"
   ]
  },
  {
   "cell_type": "code",
   "execution_count": 10,
   "id": "fb5d5abc",
   "metadata": {},
   "outputs": [
    {
     "name": "stdout",
     "output_type": "stream",
     "text": [
      "         9 function calls in 0.313 seconds\n",
      "\n",
      "   Ordered by: standard name\n",
      "\n",
      "   ncalls  tottime  percall  cumtime  percall filename:lineno(function)\n",
      "        1    0.000    0.000    0.313    0.313 __init__.py:1593(_graph_betweenness_centrality)\n",
      "        1    0.000    0.000    0.313    0.313 cProfile.py:106(runcall)\n",
      "        1    0.000    0.000    0.000    0.000 functools.py:818(dispatch)\n",
      "        1    0.000    0.000    0.313    0.313 functools.py:884(wrapper)\n",
      "        1    0.000    0.000    0.000    0.000 weakref.py:415(__getitem__)\n",
      "        1    0.000    0.000    0.000    0.000 weakref.py:428(__setitem__)\n",
      "        1    0.313    0.313    0.313    0.313 {graph_betweenness_centrality}\n",
      "        1    0.000    0.000    0.000    0.000 {method 'disable' of '_lsprof.Profiler' objects}\n",
      "        1    0.000    0.000    0.000    0.000 {method 'enable' of '_lsprof.Profiler' objects}\n",
      "\n",
      "\n"
     ]
    }
   ],
   "source": [
    "res = profiler(rx.betweenness_centrality)(g)"
   ]
  }
 ],
 "metadata": {
  "kernelspec": {
   "display_name": "Python 3 (ipykernel)",
   "language": "python",
   "name": "python3"
  },
  "language_info": {
   "codemirror_mode": {
    "name": "ipython",
    "version": 3
   },
   "file_extension": ".py",
   "mimetype": "text/x-python",
   "name": "python",
   "nbconvert_exporter": "python",
   "pygments_lexer": "ipython3",
   "version": "3.10.10"
  }
 },
 "nbformat": 4,
 "nbformat_minor": 5
}
