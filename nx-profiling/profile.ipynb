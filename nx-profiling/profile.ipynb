{
 "cells": [
  {
   "cell_type": "code",
   "execution_count": 8,
   "id": "53e04d58-2f9c-47f3-b4ca-265fe43ce9f5",
   "metadata": {},
   "outputs": [],
   "source": [
    "import networkx as nx\n",
    "import rustworkx as rx\n",
    "import pandas as pd\n",
    "import cProfile"
   ]
  },
  {
   "cell_type": "code",
   "execution_count": 9,
   "id": "5b0d1646-add6-44ab-9b82-9ab0d88348ca",
   "metadata": {},
   "outputs": [
    {
     "ename": "AttributeError",
     "evalue": "module 'rustworkx' has no attribute 'from_pandas_edgelist'",
     "output_type": "error",
     "traceback": [
      "\u001b[0;31m---------------------------------------------------------------------------\u001b[0m",
      "\u001b[0;31mAttributeError\u001b[0m                            Traceback (most recent call last)",
      "Cell \u001b[0;32mIn[9], line 1\u001b[0m\n\u001b[0;32m----> 1\u001b[0m graph_builders \u001b[38;5;241m=\u001b[39m [nx\u001b[38;5;241m.\u001b[39mfrom_pandas_edgelist, \u001b[43mrx\u001b[49m\u001b[38;5;241;43m.\u001b[39;49m\u001b[43mfrom_pandas_edgelist\u001b[49m]\n",
      "\u001b[0;31mAttributeError\u001b[0m: module 'rustworkx' has no attribute 'from_pandas_edgelist'"
     ]
    }
   ],
   "source": [
    "graph_builders = [nx.from_pandas_edgelist, rx.from_pandas_edgelist]"
   ]
  },
  {
   "cell_type": "code",
   "execution_count": 22,
   "id": "4b54a089-17f7-49e0-ad72-7c08d10113da",
   "metadata": {},
   "outputs": [],
   "source": [
    "def build_drug_interaction_network(graph_builder):\n",
    "    # Drug-drug interaction network\n",
    "    # https://snap.stanford.edu/biodata/datasets/10001/10001-ChCh-Miner.html\n",
    "    data = pd.read_csv(\n",
    "        \"https://snap.stanford.edu/biodata/datasets/10001/files/ChCh-Miner_durgbank-chem-chem.tsv.gz\",\n",
    "        sep=\"\\t\",\n",
    "        header=None,\n",
    "    )\n",
    "    return graph_builder(data, source=0, target=1)"
   ]
  },
  {
   "cell_type": "code",
   "execution_count": 24,
   "id": "2e3d74d4-3675-4e63-b58b-a00375148a46",
   "metadata": {},
   "outputs": [
    {
     "ename": "TypeError",
     "evalue": "PyGraph.from_adjacency_matrix() got an unexpected keyword argument 'source'",
     "output_type": "error",
     "traceback": [
      "\u001b[0;31m---------------------------------------------------------------------------\u001b[0m",
      "\u001b[0;31mTypeError\u001b[0m                                 Traceback (most recent call last)",
      "Cell \u001b[0;32mIn[24], line 1\u001b[0m\n\u001b[0;32m----> 1\u001b[0m \u001b[43mbuild_drug_interaction_network\u001b[49m\u001b[43m(\u001b[49m\u001b[43mrx\u001b[49m\u001b[38;5;241;43m.\u001b[39;49m\u001b[43mPyGraph\u001b[49m\u001b[38;5;241;43m.\u001b[39;49m\u001b[43mfrom_adjacency_matrix\u001b[49m\u001b[43m)\u001b[49m\n",
      "Cell \u001b[0;32mIn[22], line 9\u001b[0m, in \u001b[0;36mbuild_drug_interaction_network\u001b[0;34m(graph_builder)\u001b[0m\n\u001b[1;32m      1\u001b[0m \u001b[38;5;28;01mdef\u001b[39;00m \u001b[38;5;21mbuild_drug_interaction_network\u001b[39m(graph_builder):\n\u001b[1;32m      2\u001b[0m     \u001b[38;5;66;03m# Drug-drug interaction network\u001b[39;00m\n\u001b[1;32m      3\u001b[0m     \u001b[38;5;66;03m# https://snap.stanford.edu/biodata/datasets/10001/10001-ChCh-Miner.html\u001b[39;00m\n\u001b[1;32m      4\u001b[0m     data \u001b[38;5;241m=\u001b[39m pd\u001b[38;5;241m.\u001b[39mread_csv(\n\u001b[1;32m      5\u001b[0m         \u001b[38;5;124m\"\u001b[39m\u001b[38;5;124mhttps://snap.stanford.edu/biodata/datasets/10001/files/ChCh-Miner_durgbank-chem-chem.tsv.gz\u001b[39m\u001b[38;5;124m\"\u001b[39m,\n\u001b[1;32m      6\u001b[0m         sep\u001b[38;5;241m=\u001b[39m\u001b[38;5;124m\"\u001b[39m\u001b[38;5;130;01m\\t\u001b[39;00m\u001b[38;5;124m\"\u001b[39m,\n\u001b[1;32m      7\u001b[0m         header\u001b[38;5;241m=\u001b[39m\u001b[38;5;28;01mNone\u001b[39;00m,\n\u001b[1;32m      8\u001b[0m     )\n\u001b[0;32m----> 9\u001b[0m     \u001b[38;5;28;01mreturn\u001b[39;00m \u001b[43mgraph_builder\u001b[49m\u001b[43m(\u001b[49m\u001b[43mdata\u001b[49m\u001b[38;5;241;43m.\u001b[39;49m\u001b[43mto_dict\u001b[49m\u001b[43m(\u001b[49m\u001b[43m)\u001b[49m\u001b[43m,\u001b[49m\u001b[43m \u001b[49m\u001b[43msource\u001b[49m\u001b[38;5;241;43m=\u001b[39;49m\u001b[38;5;241;43m0\u001b[39;49m\u001b[43m,\u001b[49m\u001b[43m \u001b[49m\u001b[43mtarget\u001b[49m\u001b[38;5;241;43m=\u001b[39;49m\u001b[38;5;241;43m1\u001b[39;49m\u001b[43m)\u001b[49m\n",
      "\u001b[0;31mTypeError\u001b[0m: PyGraph.from_adjacency_matrix() got an unexpected keyword argument 'source'"
     ]
    }
   ],
   "source": [
    "build_drug_interaction_network(rx.PyGraph.from_adjacency_matrix)"
   ]
  },
  {
   "cell_type": "code",
   "execution_count": 19,
   "id": "2831d853-27b0-42d1-9da1-d93f9b91e2a0",
   "metadata": {},
   "outputs": [],
   "source": [
    "# https://snap.stanford.edu/biodata/datasets/10001/10001-ChCh-Miner.html\n",
    "data = pd.read_csv(\n",
    "    \"https://snap.stanford.edu/biodata/datasets/10001/files/ChCh-Miner_durgbank-chem-chem.tsv.gz\",\n",
    "    sep=\"\\t\",\n",
    "    header=None,\n",
    ")"
   ]
  },
  {
   "cell_type": "code",
   "execution_count": 26,
   "id": "efc7a9fc-529b-4e7c-9d94-0813c3108c4f",
   "metadata": {},
   "outputs": [
    {
     "ename": "TypeError",
     "evalue": "argument 'matrix': type mismatch:\n from=object, to=float64",
     "output_type": "error",
     "traceback": [
      "\u001b[0;31m---------------------------------------------------------------------------\u001b[0m",
      "\u001b[0;31mTypeError\u001b[0m                                 Traceback (most recent call last)",
      "Cell \u001b[0;32mIn[26], line 1\u001b[0m\n\u001b[0;32m----> 1\u001b[0m \u001b[43mrx\u001b[49m\u001b[38;5;241;43m.\u001b[39;49m\u001b[43mPyGraph\u001b[49m\u001b[38;5;241;43m.\u001b[39;49m\u001b[43mfrom_adjacency_matrix\u001b[49m\u001b[43m(\u001b[49m\u001b[43mdata\u001b[49m\u001b[38;5;241;43m.\u001b[39;49m\u001b[43mto_numpy\u001b[49m\u001b[43m(\u001b[49m\u001b[43m)\u001b[49m\u001b[43m)\u001b[49m\n",
      "\u001b[0;31mTypeError\u001b[0m: argument 'matrix': type mismatch:\n from=object, to=float64"
     ]
    }
   ],
   "source": [
    "rx.PyGraph.from_adjacency_matrix(data)"
   ]
  },
  {
   "cell_type": "code",
   "execution_count": 18,
   "id": "dafd516c-6334-4d55-bcd9-2e44f5f7786a",
   "metadata": {
    "scrolled": true
   },
   "outputs": [
    {
     "ename": "TypeError",
     "evalue": "descriptor 'extend_from_edge_list' for 'rustworkx.PyGraph' objects doesn't apply to a 'list' object",
     "output_type": "error",
     "traceback": [
      "\u001b[0;31m---------------------------------------------------------------------------\u001b[0m",
      "\u001b[0;31mTypeError\u001b[0m                                 Traceback (most recent call last)",
      "Cell \u001b[0;32mIn[18], line 1\u001b[0m\n\u001b[0;32m----> 1\u001b[0m \u001b[43mbuild_drug_interaction_network\u001b[49m\u001b[43m(\u001b[49m\u001b[43mrx\u001b[49m\u001b[38;5;241;43m.\u001b[39;49m\u001b[43mPyGraph\u001b[49m\u001b[38;5;241;43m.\u001b[39;49m\u001b[43mextend_from_edge_list\u001b[49m\u001b[43m)\u001b[49m\n",
      "Cell \u001b[0;32mIn[17], line 9\u001b[0m, in \u001b[0;36mbuild_drug_interaction_network\u001b[0;34m(graph_builder)\u001b[0m\n\u001b[1;32m      1\u001b[0m \u001b[38;5;28;01mdef\u001b[39;00m \u001b[38;5;21mbuild_drug_interaction_network\u001b[39m(graph_builder):\n\u001b[1;32m      2\u001b[0m     \u001b[38;5;66;03m# Drug-drug interaction network\u001b[39;00m\n\u001b[1;32m      3\u001b[0m     \u001b[38;5;66;03m# https://snap.stanford.edu/biodata/datasets/10001/10001-ChCh-Miner.html\u001b[39;00m\n\u001b[1;32m      4\u001b[0m     data \u001b[38;5;241m=\u001b[39m pd\u001b[38;5;241m.\u001b[39mread_csv(\n\u001b[1;32m      5\u001b[0m         \u001b[38;5;124m\"\u001b[39m\u001b[38;5;124mhttps://snap.stanford.edu/biodata/datasets/10001/files/ChCh-Miner_durgbank-chem-chem.tsv.gz\u001b[39m\u001b[38;5;124m\"\u001b[39m,\n\u001b[1;32m      6\u001b[0m         sep\u001b[38;5;241m=\u001b[39m\u001b[38;5;124m\"\u001b[39m\u001b[38;5;130;01m\\t\u001b[39;00m\u001b[38;5;124m\"\u001b[39m,\n\u001b[1;32m      7\u001b[0m         header\u001b[38;5;241m=\u001b[39m\u001b[38;5;28;01mNone\u001b[39;00m,\n\u001b[1;32m      8\u001b[0m     )\n\u001b[0;32m----> 9\u001b[0m     \u001b[38;5;28;01mreturn\u001b[39;00m \u001b[43mgraph_builder\u001b[49m\u001b[43m(\u001b[49m\u001b[38;5;28;43mlist\u001b[39;49m\u001b[43m(\u001b[49m\u001b[43mdata\u001b[49m\u001b[38;5;241;43m.\u001b[39;49m\u001b[43mto_numpy\u001b[49m\u001b[43m(\u001b[49m\u001b[43m)\u001b[49m\u001b[43m)\u001b[49m\u001b[43m,\u001b[49m\u001b[43m \u001b[49m\u001b[43msource\u001b[49m\u001b[38;5;241;43m=\u001b[39;49m\u001b[38;5;241;43m0\u001b[39;49m\u001b[43m,\u001b[49m\u001b[43m \u001b[49m\u001b[43mtarget\u001b[49m\u001b[38;5;241;43m=\u001b[39;49m\u001b[38;5;241;43m1\u001b[39;49m\u001b[43m)\u001b[49m\n",
      "\u001b[0;31mTypeError\u001b[0m: descriptor 'extend_from_edge_list' for 'rustworkx.PyGraph' objects doesn't apply to a 'list' object"
     ]
    }
   ],
   "source": [
    "build_drug_interaction_network(rx.PyGraph.extend_from_edge_list)"
   ]
  },
  {
   "cell_type": "markdown",
   "id": "6f4b9c34-389c-4d61-ab48-f5c92b854bdd",
   "metadata": {},
   "source": [
    "# Betweenness Centrality measures (NetworkX)"
   ]
  },
  {
   "cell_type": "code",
   "execution_count": 41,
   "id": "1fd4a556-fc75-4eb0-9967-d18910dbd47e",
   "metadata": {},
   "outputs": [],
   "source": [
    "def profile(func):\n",
    "    def inner(*args, **kwargs):\n",
    "        import cProfile\n",
    "        with cProfile.Profile() as pr:\n",
    "            pr.runcall(func, *args, **kwargs)\n",
    "            pr.print_stats()\n",
    "    return inner"
   ]
  },
  {
   "cell_type": "code",
   "execution_count": 42,
   "id": "54956575-aad7-431e-909b-b16c6442792b",
   "metadata": {},
   "outputs": [],
   "source": [
    "nx_betweenness_centrality_profile = profile(nx.betweenness_centrality)"
   ]
  },
  {
   "cell_type": "code",
   "execution_count": 43,
   "id": "c1ed9c55-1d14-4a15-b6a6-24464464ba97",
   "metadata": {},
   "outputs": [],
   "source": [
    "def profile_betweenness_centrality_nx():\n",
    "    g = build_drug_interaction_network(graph_builder=nx.from_pandas_edgelist)\n",
    "    nx_betweenness_centrality_profile(g)"
   ]
  },
  {
   "cell_type": "code",
   "execution_count": null,
   "id": "5776a0b6-297a-414e-aebf-109c479111b4",
   "metadata": {},
   "outputs": [],
   "source": [
    "profile_betweenness_centrality_nx()"
   ]
  },
  {
   "cell_type": "code",
   "execution_count": null,
   "id": "7ab5b1dd-449b-4804-88a1-b0e8db7025c4",
   "metadata": {},
   "outputs": [],
   "source": []
  }
 ],
 "metadata": {
  "kernelspec": {
   "display_name": "Python 3 (ipykernel)",
   "language": "python",
   "name": "python3"
  },
  "language_info": {
   "codemirror_mode": {
    "name": "ipython",
    "version": 3
   },
   "file_extension": ".py",
   "mimetype": "text/x-python",
   "name": "python",
   "nbconvert_exporter": "python",
   "pygments_lexer": "ipython3",
   "version": "3.11.4"
  }
 },
 "nbformat": 4,
 "nbformat_minor": 5
}
